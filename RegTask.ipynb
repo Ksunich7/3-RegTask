{
 "cells": [
  {
   "cell_type": "markdown",
   "metadata": {},
   "source": [
    "# Линейная регрессия."
   ]
  },
  {
   "cell_type": "code",
   "execution_count": 10,
   "metadata": {},
   "outputs": [],
   "source": [
    "import numpy as np\n",
    "import scipy\n",
    "import pandas as pd\n",
    "import matplotlib.pyplot as plt\n",
    "%matplotlib inline\n",
    "import sklearn\n",
    "import sklearn.linear_model\n",
    "import sklearn.metrics\n",
    "from sklearn.manifold import TSNE\n",
    "from sklearn import linear_model\n",
    "from sklearn.metrics  import  mean_absolute_error "
   ]
  },
  {
   "cell_type": "code",
   "execution_count": 11,
   "metadata": {},
   "outputs": [],
   "source": [
    "data = pd.read_csv('wine_regression_1.csv')"
   ]
  },
  {
   "cell_type": "code",
   "execution_count": 12,
   "metadata": {
    "scrolled": true
   },
   "outputs": [
    {
     "data": {
      "text/html": [
       "<div>\n",
       "<style scoped>\n",
       "    .dataframe tbody tr th:only-of-type {\n",
       "        vertical-align: middle;\n",
       "    }\n",
       "\n",
       "    .dataframe tbody tr th {\n",
       "        vertical-align: top;\n",
       "    }\n",
       "\n",
       "    .dataframe thead th {\n",
       "        text-align: right;\n",
       "    }\n",
       "</style>\n",
       "<table border=\"1\" class=\"dataframe\">\n",
       "  <thead>\n",
       "    <tr style=\"text-align: right;\">\n",
       "      <th></th>\n",
       "      <th>fixed acidity</th>\n",
       "      <th>volatile acidity</th>\n",
       "      <th>citric acid</th>\n",
       "      <th>residual sugar</th>\n",
       "      <th>chlorides</th>\n",
       "      <th>free sulfur dioxide</th>\n",
       "      <th>total sulfur dioxide</th>\n",
       "      <th>density</th>\n",
       "      <th>pH</th>\n",
       "      <th>sulphates</th>\n",
       "      <th>alcohol</th>\n",
       "      <th>quality</th>\n",
       "    </tr>\n",
       "  </thead>\n",
       "  <tbody>\n",
       "    <tr>\n",
       "      <th>count</th>\n",
       "      <td>400.00000</td>\n",
       "      <td>400.000000</td>\n",
       "      <td>400.000000</td>\n",
       "      <td>400.000000</td>\n",
       "      <td>400.000000</td>\n",
       "      <td>400.000000</td>\n",
       "      <td>400.000000</td>\n",
       "      <td>400.000000</td>\n",
       "      <td>400.000000</td>\n",
       "      <td>400.000000</td>\n",
       "      <td>400.000000</td>\n",
       "      <td>400.000000</td>\n",
       "    </tr>\n",
       "    <tr>\n",
       "      <th>mean</th>\n",
       "      <td>8.30525</td>\n",
       "      <td>0.525613</td>\n",
       "      <td>0.271950</td>\n",
       "      <td>2.522500</td>\n",
       "      <td>0.087540</td>\n",
       "      <td>16.267500</td>\n",
       "      <td>47.020000</td>\n",
       "      <td>0.996712</td>\n",
       "      <td>3.303900</td>\n",
       "      <td>0.648200</td>\n",
       "      <td>10.381125</td>\n",
       "      <td>5.602500</td>\n",
       "    </tr>\n",
       "    <tr>\n",
       "      <th>std</th>\n",
       "      <td>1.73299</td>\n",
       "      <td>0.181845</td>\n",
       "      <td>0.193609</td>\n",
       "      <td>1.333098</td>\n",
       "      <td>0.046727</td>\n",
       "      <td>10.934342</td>\n",
       "      <td>35.198465</td>\n",
       "      <td>0.001889</td>\n",
       "      <td>0.147992</td>\n",
       "      <td>0.157134</td>\n",
       "      <td>1.032203</td>\n",
       "      <td>0.846336</td>\n",
       "    </tr>\n",
       "    <tr>\n",
       "      <th>min</th>\n",
       "      <td>5.00000</td>\n",
       "      <td>0.120000</td>\n",
       "      <td>0.000000</td>\n",
       "      <td>1.200000</td>\n",
       "      <td>0.039000</td>\n",
       "      <td>1.000000</td>\n",
       "      <td>6.000000</td>\n",
       "      <td>0.990800</td>\n",
       "      <td>2.920000</td>\n",
       "      <td>0.400000</td>\n",
       "      <td>8.800000</td>\n",
       "      <td>3.000000</td>\n",
       "    </tr>\n",
       "    <tr>\n",
       "      <th>25%</th>\n",
       "      <td>7.10000</td>\n",
       "      <td>0.390000</td>\n",
       "      <td>0.090000</td>\n",
       "      <td>1.900000</td>\n",
       "      <td>0.070000</td>\n",
       "      <td>7.000000</td>\n",
       "      <td>21.000000</td>\n",
       "      <td>0.995648</td>\n",
       "      <td>3.200000</td>\n",
       "      <td>0.550000</td>\n",
       "      <td>9.500000</td>\n",
       "      <td>5.000000</td>\n",
       "    </tr>\n",
       "    <tr>\n",
       "      <th>50%</th>\n",
       "      <td>7.90000</td>\n",
       "      <td>0.520000</td>\n",
       "      <td>0.260000</td>\n",
       "      <td>2.200000</td>\n",
       "      <td>0.078000</td>\n",
       "      <td>14.000000</td>\n",
       "      <td>37.000000</td>\n",
       "      <td>0.996750</td>\n",
       "      <td>3.300000</td>\n",
       "      <td>0.610000</td>\n",
       "      <td>10.050000</td>\n",
       "      <td>6.000000</td>\n",
       "    </tr>\n",
       "    <tr>\n",
       "      <th>75%</th>\n",
       "      <td>9.20000</td>\n",
       "      <td>0.631250</td>\n",
       "      <td>0.420000</td>\n",
       "      <td>2.600000</td>\n",
       "      <td>0.091000</td>\n",
       "      <td>23.000000</td>\n",
       "      <td>61.000000</td>\n",
       "      <td>0.997873</td>\n",
       "      <td>3.390000</td>\n",
       "      <td>0.710000</td>\n",
       "      <td>11.000000</td>\n",
       "      <td>6.000000</td>\n",
       "    </tr>\n",
       "    <tr>\n",
       "      <th>max</th>\n",
       "      <td>15.50000</td>\n",
       "      <td>1.185000</td>\n",
       "      <td>0.760000</td>\n",
       "      <td>13.800000</td>\n",
       "      <td>0.415000</td>\n",
       "      <td>68.000000</td>\n",
       "      <td>289.000000</td>\n",
       "      <td>1.003150</td>\n",
       "      <td>4.010000</td>\n",
       "      <td>1.590000</td>\n",
       "      <td>14.000000</td>\n",
       "      <td>8.000000</td>\n",
       "    </tr>\n",
       "  </tbody>\n",
       "</table>\n",
       "</div>"
      ],
      "text/plain": [
       "       fixed acidity  volatile acidity  citric acid  residual sugar  \\\n",
       "count      400.00000        400.000000   400.000000      400.000000   \n",
       "mean         8.30525          0.525613     0.271950        2.522500   \n",
       "std          1.73299          0.181845     0.193609        1.333098   \n",
       "min          5.00000          0.120000     0.000000        1.200000   \n",
       "25%          7.10000          0.390000     0.090000        1.900000   \n",
       "50%          7.90000          0.520000     0.260000        2.200000   \n",
       "75%          9.20000          0.631250     0.420000        2.600000   \n",
       "max         15.50000          1.185000     0.760000       13.800000   \n",
       "\n",
       "        chlorides  free sulfur dioxide  total sulfur dioxide     density  \\\n",
       "count  400.000000           400.000000            400.000000  400.000000   \n",
       "mean     0.087540            16.267500             47.020000    0.996712   \n",
       "std      0.046727            10.934342             35.198465    0.001889   \n",
       "min      0.039000             1.000000              6.000000    0.990800   \n",
       "25%      0.070000             7.000000             21.000000    0.995648   \n",
       "50%      0.078000            14.000000             37.000000    0.996750   \n",
       "75%      0.091000            23.000000             61.000000    0.997873   \n",
       "max      0.415000            68.000000            289.000000    1.003150   \n",
       "\n",
       "               pH   sulphates     alcohol     quality  \n",
       "count  400.000000  400.000000  400.000000  400.000000  \n",
       "mean     3.303900    0.648200   10.381125    5.602500  \n",
       "std      0.147992    0.157134    1.032203    0.846336  \n",
       "min      2.920000    0.400000    8.800000    3.000000  \n",
       "25%      3.200000    0.550000    9.500000    5.000000  \n",
       "50%      3.300000    0.610000   10.050000    6.000000  \n",
       "75%      3.390000    0.710000   11.000000    6.000000  \n",
       "max      4.010000    1.590000   14.000000    8.000000  "
      ]
     },
     "execution_count": 12,
     "metadata": {},
     "output_type": "execute_result"
    }
   ],
   "source": [
    "data.describe()"
   ]
  },
  {
   "cell_type": "markdown",
   "metadata": {},
   "source": [
    "Данные часть набора данных о химическом составе испанских и португальских вин - кислотность, количество сахара, плотность, количество диоксида серы, количество спирта. Последний столбец - quality - результат слепого тестирования вин - оценка от 0 до 10.\n",
    "В этом ноутбуке надо построить регрессию от параметров данных на стобец quality.\n",
    "\n",
    "**Построить регресию на качество**   \n",
    "Здесь достаточно данных, можно попробовать поработать над качеством модели."
   ]
  },
  {
   "cell_type": "code",
   "execution_count": 31,
   "metadata": {},
   "outputs": [],
   "source": [
    "X= data.drop(data.columns[[11]],axis=1)\n",
    "y = data.drop(data.columns[0:11], axis=1) \n",
    "X_less=TSNE(n_components=2).fit_transform(X)\n",
    "y_less=TSNE(n_components=2).fit_transform(y)"
   ]
  },
  {
   "cell_type": "code",
   "execution_count": 32,
   "metadata": {},
   "outputs": [
    {
     "data": {
      "image/png": "[encoded data removed]",
      "text/plain": [
       "<Figure size 432x288 with 1 Axes>"
      ]
     },
     "metadata": {},
     "output_type": "display_data"
    }
   ],
   "source": [
    "r = linear_model.LinearRegression()\n",
    "r.fit(X_less, y_less)\n",
    "quality_predictions=r.predict(X_less)\n",
    "plt.scatter(X_less, quality_predictions);"
   ]
  },
  {
   "cell_type": "code",
   "execution_count": 33,
   "metadata": {},
   "outputs": [
    {
     "data": {
      "text/plain": [
       "14.879288"
      ]
     },
     "execution_count": 33,
     "metadata": {},
     "output_type": "execute_result"
    }
   ],
   "source": [
    "mean_absolute_error(X_less, quality_predictions)"
   ]
  },
  {
   "cell_type": "code",
   "execution_count": 34,
   "metadata": {},
   "outputs": [
    {
     "data": {
      "text/plain": [
       "-2.3986808309275065"
      ]
     },
     "execution_count": 34,
     "metadata": {},
     "output_type": "execute_result"
    }
   ],
   "source": [
    "regr.score(X_less, quality_predictions)"
   ]
  }
 ],
 "metadata": {
  "kernelspec": {
   "display_name": "Python 3",
   "language": "python",
   "name": "python3"
  },
  "language_info": {
   "codemirror_mode": {
    "name": "ipython",
    "version": 3
   },
   "file_extension": ".py",
   "mimetype": "text/x-python",
   "name": "python",
   "nbconvert_exporter": "python",
   "pygments_lexer": "ipython3",
   "version": "3.6.5"
  }
 },
 "nbformat": 4,
 "nbformat_minor": 1
}
